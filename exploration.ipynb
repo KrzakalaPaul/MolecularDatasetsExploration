{
 "cells": [
  {
   "cell_type": "code",
   "execution_count": 1,
   "metadata": {},
   "outputs": [],
   "source": [
    "from data.utils.lmdb_utils import LMDBDataset\n",
    "\n",
    "dataset = LMDBDataset('data/graphs/QM9_train.lmdb')"
   ]
  },
  {
   "cell_type": "code",
   "execution_count": 2,
   "metadata": {},
   "outputs": [
    {
     "name": "stdout",
     "output_type": "stream",
     "text": [
      "{'atom_atomic_nums': array([5, 5, 5, 7, 5, 7, 5], dtype=uint8), 'edge_index': array([[0, 1, 1, 2, 2, 3, 3, 4, 4, 5, 5, 6, 6, 1, 6, 2],\n",
      "       [1, 0, 2, 1, 3, 2, 4, 3, 5, 4, 6, 5, 1, 6, 2, 6]], dtype=uint8), 'edge_attr': array([0, 0, 0, 0, 0, 0, 0, 0, 0, 0, 0, 0, 0, 0, 0, 0], dtype=uint8)}\n",
      "[ 4.57111000e+00  2.64766000e+00  2.51580000e+00  1.10280000e+00\n",
      "  5.61400000e+01 -2.45900000e-01  9.22000000e-02  3.38100000e-01\n",
      "  6.24804200e+02  1.25739000e-01 -3.45627428e+02 -3.45621103e+02\n",
      " -3.45620159e+02 -3.45657610e+02  2.32890000e+01 -1.41956718e+03\n",
      " -1.42892961e+03 -1.43722779e+03 -1.32062093e+03]\n"
     ]
    }
   ],
   "source": [
    "graph, target = dataset[1]\n",
    "\n",
    "print(graph)\n",
    "print(target)"
   ]
  },
  {
   "cell_type": "code",
   "execution_count": null,
   "metadata": {},
   "outputs": [],
   "source": []
  }
 ],
 "metadata": {
  "kernelspec": {
   "display_name": "base",
   "language": "python",
   "name": "python3"
  },
  "language_info": {
   "codemirror_mode": {
    "name": "ipython",
    "version": 3
   },
   "file_extension": ".py",
   "mimetype": "text/x-python",
   "name": "python",
   "nbconvert_exporter": "python",
   "pygments_lexer": "ipython3",
   "version": "3.11.5"
  }
 },
 "nbformat": 4,
 "nbformat_minor": 2
}
