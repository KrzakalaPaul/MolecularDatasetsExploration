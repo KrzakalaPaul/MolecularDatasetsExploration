{
 "cells": [
  {
   "cell_type": "code",
   "execution_count": 1,
   "metadata": {},
   "outputs": [],
   "source": [
    "from data.utils.lmdb_utils import LMDBDataset\n",
    "\n",
    "dataset = LMDBDataset('data/graphs/PUBCHEM.lmdb')"
   ]
  },
  {
   "cell_type": "code",
   "execution_count": 4,
   "metadata": {},
   "outputs": [
    {
     "name": "stdout",
     "output_type": "stream",
     "text": [
      "632431\n"
     ]
    }
   ],
   "source": [
    "print(len(dataset))"
   ]
  },
  {
   "cell_type": "code",
   "execution_count": 5,
   "metadata": {},
   "outputs": [
    {
     "ename": "TypeError",
     "evalue": "a bytes-like object is required, not 'NoneType'",
     "output_type": "error",
     "traceback": [
      "\u001b[0;31m---------------------------------------------------------------------------\u001b[0m",
      "\u001b[0;31mTypeError\u001b[0m                                 Traceback (most recent call last)",
      "Cell \u001b[0;32mIn[5], line 5\u001b[0m\n\u001b[1;32m      4\u001b[0m \u001b[38;5;28;01mtry\u001b[39;00m:\n\u001b[0;32m----> 5\u001b[0m     graph, target \u001b[38;5;241m=\u001b[39m dataset[i]\n\u001b[1;32m      6\u001b[0m \u001b[38;5;28;01mexcept\u001b[39;00m:\n",
      "File \u001b[0;32m~/Documents/github/MolecularDatasetsExploration/data/utils/lmdb_utils.py:43\u001b[0m, in \u001b[0;36mLMDBDataset.__getitem__\u001b[0;34m(self, idx)\u001b[0m\n\u001b[1;32m     42\u001b[0m datapoint_pickled \u001b[38;5;241m=\u001b[39m \u001b[38;5;28mself\u001b[39m\u001b[38;5;241m.\u001b[39menv\u001b[38;5;241m.\u001b[39mbegin()\u001b[38;5;241m.\u001b[39mget(\u001b[38;5;124mf\u001b[39m\u001b[38;5;124m\"\u001b[39m\u001b[38;5;132;01m{\u001b[39;00m\u001b[38;5;28mself\u001b[39m\u001b[38;5;241m.\u001b[39msplit\u001b[38;5;132;01m}\u001b[39;00m\u001b[38;5;124m_\u001b[39m\u001b[38;5;132;01m{\u001b[39;00midx\u001b[38;5;132;01m}\u001b[39;00m\u001b[38;5;124m\"\u001b[39m\u001b[38;5;241m.\u001b[39mencode(\u001b[38;5;124m\"\u001b[39m\u001b[38;5;124mascii\u001b[39m\u001b[38;5;124m\"\u001b[39m))\n\u001b[0;32m---> 43\u001b[0m data \u001b[38;5;241m=\u001b[39m pickle\u001b[38;5;241m.\u001b[39mloads(datapoint_pickled)\n\u001b[1;32m     44\u001b[0m \u001b[38;5;28;01mreturn\u001b[39;00m data\n",
      "\u001b[0;31mTypeError\u001b[0m: a bytes-like object is required, not 'NoneType'",
      "\nDuring handling of the above exception, another exception occurred:\n",
      "\u001b[0;31mTypeError\u001b[0m                                 Traceback (most recent call last)",
      "Cell \u001b[0;32mIn[5], line 7\u001b[0m\n\u001b[1;32m      5\u001b[0m     graph, target \u001b[38;5;241m=\u001b[39m dataset[i]\n\u001b[1;32m      6\u001b[0m \u001b[38;5;28;01mexcept\u001b[39;00m:\n\u001b[0;32m----> 7\u001b[0m     graph \u001b[38;5;241m=\u001b[39m dataset[i]\n\u001b[1;32m      8\u001b[0m all_atomic_nums\u001b[38;5;241m.\u001b[39mextend(graph[\u001b[38;5;124m'\u001b[39m\u001b[38;5;124matom_atomic_nums\u001b[39m\u001b[38;5;124m'\u001b[39m]\u001b[38;5;241m.\u001b[39mtolist())\n\u001b[1;32m      9\u001b[0m all_sizes\u001b[38;5;241m.\u001b[39mappend(graph[\u001b[38;5;124m'\u001b[39m\u001b[38;5;124matom_atomic_nums\u001b[39m\u001b[38;5;124m'\u001b[39m]\u001b[38;5;241m.\u001b[39mshape[\u001b[38;5;241m0\u001b[39m])\n",
      "File \u001b[0;32m~/Documents/github/MolecularDatasetsExploration/data/utils/lmdb_utils.py:43\u001b[0m, in \u001b[0;36mLMDBDataset.__getitem__\u001b[0;34m(self, idx)\u001b[0m\n\u001b[1;32m     41\u001b[0m     \u001b[38;5;28mself\u001b[39m\u001b[38;5;241m.\u001b[39mconnect_db(\u001b[38;5;28mself\u001b[39m\u001b[38;5;241m.\u001b[39mdb_path, save_to_self\u001b[38;5;241m=\u001b[39m\u001b[38;5;28;01mTrue\u001b[39;00m)\n\u001b[1;32m     42\u001b[0m datapoint_pickled \u001b[38;5;241m=\u001b[39m \u001b[38;5;28mself\u001b[39m\u001b[38;5;241m.\u001b[39menv\u001b[38;5;241m.\u001b[39mbegin()\u001b[38;5;241m.\u001b[39mget(\u001b[38;5;124mf\u001b[39m\u001b[38;5;124m\"\u001b[39m\u001b[38;5;132;01m{\u001b[39;00m\u001b[38;5;28mself\u001b[39m\u001b[38;5;241m.\u001b[39msplit\u001b[38;5;132;01m}\u001b[39;00m\u001b[38;5;124m_\u001b[39m\u001b[38;5;132;01m{\u001b[39;00midx\u001b[38;5;132;01m}\u001b[39;00m\u001b[38;5;124m\"\u001b[39m\u001b[38;5;241m.\u001b[39mencode(\u001b[38;5;124m\"\u001b[39m\u001b[38;5;124mascii\u001b[39m\u001b[38;5;124m\"\u001b[39m))\n\u001b[0;32m---> 43\u001b[0m data \u001b[38;5;241m=\u001b[39m pickle\u001b[38;5;241m.\u001b[39mloads(datapoint_pickled)\n\u001b[1;32m     44\u001b[0m \u001b[38;5;28;01mreturn\u001b[39;00m data\n",
      "\u001b[0;31mTypeError\u001b[0m: a bytes-like object is required, not 'NoneType'"
     ]
    }
   ],
   "source": [
    "all_atomic_nums = []\n",
    "all_sizes = []\n",
    "for i in range(len(dataset)):\n",
    "    try:\n",
    "        graph, target = dataset[i]\n",
    "    except:\n",
    "        graph = dataset[i]\n",
    "    all_atomic_nums.extend(graph['atom_atomic_nums'].tolist())\n",
    "    all_sizes.append(graph['atom_atomic_nums'].shape[0])"
   ]
  },
  {
   "cell_type": "code",
   "execution_count": 10,
   "metadata": {},
   "outputs": [
    {
     "data": {
      "image/png": "[encoded data removed]",
      "text/plain": [
       "<Figure size 640x480 with 1 Axes>"
      ]
     },
     "metadata": {},
     "output_type": "display_data"
    },
    {
     "name": "stdout",
     "output_type": "stream",
     "text": [
      "Max size: 49\n",
      "Min size: 2\n",
      "Average size: 23.87176966292135\n"
     ]
    }
   ],
   "source": [
    "import matplotlib.pyplot as plt\n",
    "\n",
    "plt.hist(all_sizes, bins=200, edgecolor='black')\n",
    "plt.title('Distribution of Sizes')\n",
    "plt.xlabel('Size')\n",
    "plt.ylabel('Frequency')\n",
    "plt.show()\n",
    "\n",
    "print('Max size:', max(all_sizes))\n",
    "print('Min size:', min(all_sizes))\n",
    "print('Average size:', sum(all_sizes) / len(all_sizes))"
   ]
  },
  {
   "cell_type": "code",
   "execution_count": 18,
   "metadata": {},
   "outputs": [
    {
     "name": "stdout",
     "output_type": "stream",
     "text": [
      "53\n",
      "0 4\n",
      "2 5\n",
      "4 88\n",
      "5 617212\n",
      "6 83280\n",
      "7 113704\n",
      "8 5534\n",
      "10 270\n",
      "11 1\n",
      "12 3\n",
      "13 405\n",
      "14 1673\n",
      "15 15572\n",
      "16 8887\n",
      "18 27\n",
      "19 2\n",
      "21 2\n",
      "22 1\n",
      "23 8\n",
      "24 17\n",
      "25 53\n",
      "26 101\n",
      "27 68\n",
      "28 89\n",
      "29 24\n",
      "30 4\n",
      "31 25\n",
      "32 33\n",
      "33 140\n",
      "34 1787\n",
      "39 2\n",
      "41 14\n",
      "43 10\n",
      "44 11\n",
      "45 39\n",
      "46 5\n",
      "49 142\n",
      "50 8\n",
      "51 5\n",
      "52 464\n",
      "54 1\n",
      "66 1\n",
      "73 9\n",
      "74 2\n",
      "76 17\n",
      "77 41\n",
      "78 6\n",
      "79 15\n",
      "80 5\n",
      "81 7\n",
      "82 9\n",
      "88 1\n",
      "91 2\n"
     ]
    }
   ],
   "source": [
    "unique = set(all_atomic_nums)\n",
    "print(len(unique))\n",
    "for u in unique:\n",
    "    print(u, all_atomic_nums.count(u))"
   ]
  },
  {
   "cell_type": "code",
   "execution_count": null,
   "metadata": {},
   "outputs": [],
   "source": []
  }
 ],
 "metadata": {
  "kernelspec": {
   "display_name": "base",
   "language": "python",
   "name": "python3"
  },
  "language_info": {
   "codemirror_mode": {
    "name": "ipython",
    "version": 3
   },
   "file_extension": ".py",
   "mimetype": "text/x-python",
   "name": "python",
   "nbconvert_exporter": "python",
   "pygments_lexer": "ipython3",
   "version": "3.11.5"
  }
 },
 "nbformat": 4,
 "nbformat_minor": 2
}
