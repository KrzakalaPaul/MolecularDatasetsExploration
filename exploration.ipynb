{
 "cells": [
  {
   "cell_type": "code",
   "execution_count": 1,
   "metadata": {},
   "outputs": [
    {
     "name": "stdout",
     "output_type": "stream",
     "text": [
      "82297\n"
     ]
    }
   ],
   "source": [
    "import os \n",
    "import pickle\n",
    "import lmdb\n",
    "from functools import lru_cache\n",
    "\n",
    "class LMDBDataset:\n",
    "    def __init__(self, db_path, split=\"train\"):\n",
    "        self.db_path = os.path.join(db_path, split+\".lmdb\")\n",
    "        assert os.path.isfile(self.db_path), \"{} not found\".format(self.db_path)\n",
    "        env = self.connect_db(self.db_path)\n",
    "        self.dataset_size = int(env.begin().get(\"size\".encode(\"ascii\")).decode(\"ascii\")) \n",
    "\n",
    "    def connect_db(self, lmdb_path, save_to_self=False):\n",
    "        env = lmdb.open(\n",
    "            lmdb_path,\n",
    "            subdir=False,\n",
    "            readonly=True,\n",
    "            lock=False,\n",
    "            readahead=False,\n",
    "            meminit=False,\n",
    "            max_readers=256,\n",
    "        )\n",
    "        if not save_to_self:\n",
    "            return env\n",
    "        else:\n",
    "            self.env = env\n",
    "\n",
    "    def __len__(self):\n",
    "        return self.dataset_size\n",
    "\n",
    "    @lru_cache(maxsize=16)\n",
    "    def __getitem__(self, idx):\n",
    "        if not hasattr(self, \"env\"):\n",
    "            self.connect_db(self.db_path, save_to_self=True)\n",
    "        datapoint_pickled = self.env.begin().get(f\"{idx}\".encode(\"ascii\"))\n",
    "        data = pickle.loads(datapoint_pickled)\n",
    "        return data\n",
    "\n",
    "\n",
    "dataset = LMDBDataset('data/graphs/PUBCHEM', split='train')\n",
    "print(len(dataset))"
   ]
  },
  {
   "cell_type": "code",
   "execution_count": 2,
   "metadata": {},
   "outputs": [
    {
     "data": {
      "text/plain": [
       "{'atom_atomic_nums': array([5, 5, 5, 5, 5, 5, 5, 7, 5, 5, 5, 7, 6, 5, 7, 6], dtype=uint8),\n",
       " 'edge_index': array([[ 0,  1,  1,  2,  2,  3,  3,  4,  4,  5,  3,  6,  6,  7,  6,  8,\n",
       "          8,  9,  9, 10, 10, 11, 10, 12, 12, 13, 13, 14, 13, 15,  5,  0,\n",
       "         15,  9],\n",
       "        [ 1,  0,  2,  1,  3,  2,  4,  3,  5,  4,  6,  3,  7,  6,  8,  6,\n",
       "          9,  8, 10,  9, 11, 10, 12, 10, 13, 12, 14, 13, 15, 13,  0,  5,\n",
       "          9, 15]], dtype=uint8),\n",
       " 'edge_attr': array([3, 3, 3, 3, 3, 3, 3, 3, 3, 3, 0, 0, 1, 1, 0, 0, 1, 1, 0, 0, 1, 1,\n",
       "        0, 0, 0, 0, 1, 1, 0, 0, 3, 3, 0, 0], dtype=uint8)}"
      ]
     },
     "execution_count": 2,
     "metadata": {},
     "output_type": "execute_result"
    }
   ],
   "source": [
    "dataset[0]"
   ]
  },
  {
   "cell_type": "code",
   "execution_count": 3,
   "metadata": {},
   "outputs": [
    {
     "name": "stdout",
     "output_type": "stream",
     "text": [
      "82297\n"
     ]
    }
   ],
   "source": [
    "print(len(dataset))"
   ]
  },
  {
   "cell_type": "code",
   "execution_count": 4,
   "metadata": {},
   "outputs": [],
   "source": [
    "all_atomic_nums = []\n",
    "all_sizes = []\n",
    "for i in range(len(dataset)):\n",
    "    try:\n",
    "        graph, target = dataset[i]\n",
    "    except:\n",
    "        graph = dataset[i]\n",
    "    all_atomic_nums.extend(graph['atom_atomic_nums'].tolist())\n",
    "    all_sizes.append(graph['atom_atomic_nums'].shape[0])"
   ]
  },
  {
   "cell_type": "code",
   "execution_count": 5,
   "metadata": {},
   "outputs": [
    {
     "data": {
      "image/png": "[encoded data removed]",
      "text/plain": [
       "<Figure size 640x480 with 1 Axes>"
      ]
     },
     "metadata": {},
     "output_type": "display_data"
    },
    {
     "name": "stdout",
     "output_type": "stream",
     "text": [
      "Max size: 33\n",
      "Min size: 1\n",
      "Average size: 17.409528901418035\n"
     ]
    }
   ],
   "source": [
    "import matplotlib.pyplot as plt\n",
    "\n",
    "plt.hist(all_sizes, bins=200, edgecolor='black')\n",
    "plt.title('Distribution of Sizes')\n",
    "plt.xlabel('Size')\n",
    "plt.ylabel('Frequency')\n",
    "plt.show()\n",
    "\n",
    "print('Max size:', max(all_sizes))\n",
    "print('Min size:', min(all_sizes))\n",
    "print('Average size:', sum(all_sizes) / len(all_sizes))"
   ]
  },
  {
   "cell_type": "code",
   "execution_count": 6,
   "metadata": {},
   "outputs": [
    {
     "name": "stdout",
     "output_type": "stream",
     "text": [
      "101\n",
      "0 226\n",
      "1 1\n",
      "2 90\n",
      "3 41\n",
      "4 251\n",
      "5 1052256\n",
      "6 115474\n",
      "7 185047\n",
      "8 11475\n",
      "9 1\n",
      "10 2009\n",
      "11 121\n",
      "12 173\n",
      "13 1338\n",
      "14 3287\n",
      "15 16970\n",
      "16 31562\n",
      "17 1\n",
      "18 475\n",
      "19 189\n",
      "20 8\n",
      "21 44\n",
      "22 39\n",
      "23 105\n",
      "24 65\n",
      "25 153\n",
      "26 86\n",
      "27 64\n",
      "28 130\n",
      "29 126\n",
      "30 18\n",
      "31 53\n",
      "32 391\n",
      "33 192\n",
      "34 5468\n",
      "35 3\n",
      "36 24\n",
      "37 36\n",
      "38 12\n",
      "39 32\n",
      "40 22\n",
      "41 31\n",
      "42 9\n",
      "43 9\n",
      "44 10\n",
      "45 30\n",
      "46 51\n",
      "47 40\n",
      "48 16\n",
      "49 296\n",
      "50 116\n",
      "51 64\n",
      "52 2989\n",
      "53 3\n",
      "54 25\n",
      "55 50\n",
      "56 14\n",
      "57 20\n",
      "58 13\n",
      "59 11\n",
      "60 1\n",
      "61 11\n",
      "62 14\n",
      "63 12\n",
      "64 13\n",
      "65 13\n",
      "66 16\n",
      "67 10\n",
      "68 12\n",
      "69 15\n",
      "70 11\n",
      "71 6\n",
      "72 19\n",
      "73 18\n",
      "74 14\n",
      "75 4\n",
      "76 15\n",
      "77 56\n",
      "78 23\n",
      "79 329\n",
      "80 29\n",
      "81 142\n",
      "82 44\n",
      "83 4\n",
      "85 3\n",
      "86 1\n",
      "87 3\n",
      "88 1\n",
      "89 12\n",
      "90 1\n",
      "91 33\n",
      "92 1\n",
      "93 3\n",
      "94 1\n",
      "95 1\n",
      "96 1\n",
      "97 1\n",
      "98 1\n",
      "99 1\n",
      "100 1\n",
      "101 1\n"
     ]
    }
   ],
   "source": [
    "unique = set(all_atomic_nums)\n",
    "print(len(unique))\n",
    "for u in unique:\n",
    "    print(u, all_atomic_nums.count(u))"
   ]
  },
  {
   "cell_type": "code",
   "execution_count": null,
   "metadata": {},
   "outputs": [],
   "source": []
  }
 ],
 "metadata": {
  "kernelspec": {
   "display_name": "base",
   "language": "python",
   "name": "python3"
  },
  "language_info": {
   "codemirror_mode": {
    "name": "ipython",
    "version": 3
   },
   "file_extension": ".py",
   "mimetype": "text/x-python",
   "name": "python",
   "nbconvert_exporter": "python",
   "pygments_lexer": "ipython3",
   "version": "3.11.5"
  }
 },
 "nbformat": 4,
 "nbformat_minor": 2
}
