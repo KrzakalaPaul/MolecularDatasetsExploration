{
 "cells": [
  {
   "cell_type": "code",
   "execution_count": 1,
   "metadata": {},
   "outputs": [],
   "source": [
    "import pandas as pd\n",
    "\n",
    "df = pd.read_parquet(\"hf://datasets/graphs-datasets/alchemy/data/full-00000-of-00001-0d58e2f53308c508.parquet\")"
   ]
  },
  {
   "cell_type": "code",
   "execution_count": 2,
   "metadata": {},
   "outputs": [
    {
     "data": {
      "text/plain": [
       "array([3402042.,  327512.,  345266.,  154488.])"
      ]
     },
     "execution_count": 2,
     "metadata": {},
     "output_type": "execute_result"
    }
   ],
   "source": [
    "edges = df['edge_attr'].apply(lambda x: x.sum())\n",
    "edges.sum()"
   ]
  },
  {
   "cell_type": "code",
   "execution_count": 3,
   "metadata": {},
   "outputs": [],
   "source": [
    "from rdkit import Chem\n",
    "feat_to_atomic_num = {0: 6, 1: 7, 2: 8, 3: 16, 4: 9, 5: 17}\n",
    "feat_to_bond_type = {0: Chem.BondType.SINGLE, 1: Chem.BondType.AROMATIC, 2: Chem.BondType.DOUBLE, 3: Chem.BondType.TRIPLE}\n",
    "    \n",
    "\n",
    "# Convert edge_index and node_feat to a molecule\n",
    "def create_molecule(edge_index, node_feat, edge_attr):\n",
    "    \n",
    "    # Mapping from atomic number to atom type (order: C, N, O, S, F, Cl)\n",
    "    mol = Chem.RWMol()\n",
    "    atom_map = {}\n",
    "    \n",
    "    # Add atoms\n",
    "    for i, feat in enumerate(node_feat):\n",
    "        feat = int(feat.argmax())\n",
    "        atomic_num = feat_to_atomic_num[feat]\n",
    "        atom = Chem.Atom(atomic_num)  # Assuming one-hot encoding for atom types\n",
    "        atom_idx = mol.AddAtom(atom)\n",
    "        atom_map[i] = atom_idx\n",
    "    \n",
    "    # Add bonds\n",
    "    for start, end, type in zip(edge_index[0], edge_index[1], edge_attr):\n",
    "        type = int(type.argmax())\n",
    "        bond_type = feat_to_bond_type[type]\n",
    "        if mol.GetBondBetweenAtoms(atom_map[start], atom_map[end]) is None:\n",
    "            mol.AddBond(atom_map[start], atom_map[end], bond_type)\n",
    "    \n",
    "    return mol\n",
    "\n",
    "def get_smiles(mol):\n",
    "    return Chem.MolToSmiles(mol)\n",
    "\n",
    "def is_valid(mol):\n",
    "    # Check if the molecule is valid\n",
    "    if mol is not None and Chem.SanitizeMol(mol, catchErrors=True) == Chem.SanitizeFlags.SANITIZE_NONE:\n",
    "        return 1\n",
    "    else:\n",
    "        return 0\n",
    "    \n",
    "def sanitize(mol):\n",
    "    return Chem.SanitizeMol(mol, catchErrors=True)"
   ]
  },
  {
   "cell_type": "code",
   "execution_count": 4,
   "metadata": {},
   "outputs": [
    {
     "name": "stdout",
     "output_type": "stream",
     "text": [
      "Valid molecules: 183443/202579\n"
     ]
    }
   ],
   "source": [
    "import rdkit\n",
    "\n",
    "smiles = []\n",
    "valids = 0\n",
    "for i in range(len(df)):\n",
    "    rdkit.RDLogger.DisableLog('rdApp.*')\n",
    "    mol = create_molecule(df.edge_index[i], df.node_feat[i], df.edge_attr[i])\n",
    "    if is_valid(mol):\n",
    "        valids += 1\n",
    "    else:\n",
    "        sanitize(mol)\n",
    "    smiles.append(get_smiles(mol))\n",
    "print(f\"Valid molecules: {valids}/{len(df)}\")"
   ]
  },
  {
   "cell_type": "code",
   "execution_count": null,
   "metadata": {},
   "outputs": [],
   "source": [
    "columns = {\"smiles\": smiles}\n",
    "\n",
    "for i in range(12):\n",
    "    columns[f\"y{i}\"] = df['y'].apply(lambda x: x[0][i])\n",
    "\n",
    "csv = pd.DataFrame(columns)\n",
    "csv.to_csv(\"alchemy.csv\", index=False)"
   ]
  },
  {
   "cell_type": "code",
   "execution_count": null,
   "metadata": {},
   "outputs": [
    {
     "name": "stdout",
     "output_type": "stream",
     "text": [
      "0\n"
     ]
    },
    {
     "data": {
      "text/plain": [
       "'C#CCNC(C)O(C)(=N)=N'"
      ]
     },
     "execution_count": 52,
     "metadata": {},
     "output_type": "execute_result"
    }
   ],
   "source": [
    "from rdkit.Chem import Draw\n",
    "\n",
    "i = 2\n",
    "\n",
    "mol = create_molecule(df.edge_index[i], df.node_feat[i], df.edge_attr[i])\n",
    "img = Draw.MolToImage(mol)\n",
    "img.show()\n",
    "\n",
    "print(is_valid(mol))\n",
    "get_smiles(mol)"
   ]
  },
  {
   "cell_type": "code",
   "execution_count": null,
   "metadata": {},
   "outputs": [],
   "source": []
  }
 ],
 "metadata": {
  "kernelspec": {
   "display_name": "base",
   "language": "python",
   "name": "python3"
  },
  "language_info": {
   "codemirror_mode": {
    "name": "ipython",
    "version": 3
   },
   "file_extension": ".py",
   "mimetype": "text/x-python",
   "name": "python",
   "nbconvert_exporter": "python",
   "pygments_lexer": "ipython3",
   "version": "3.11.5"
  }
 },
 "nbformat": 4,
 "nbformat_minor": 2
}
