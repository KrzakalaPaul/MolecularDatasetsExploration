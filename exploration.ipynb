{
 "cells": [
  {
   "cell_type": "code",
   "execution_count": 1,
   "metadata": {},
   "outputs": [],
   "source": [
    "from data.utils.lmdb_utils import LMDBDataset\n",
    "\n",
    "dataset = LMDBDataset('data/graphs/QM9_train.lmdb')"
   ]
  },
  {
   "cell_type": "code",
   "execution_count": 3,
   "metadata": {},
   "outputs": [
    {
     "name": "stdout",
     "output_type": "stream",
     "text": [
      "{'atom_atomic_nums': array([5, 5, 5, 6, 5, 6, 6, 5], dtype=uint8), 'edge_index': array([[0, 1, 1, 2, 2, 3, 3, 4, 4, 5, 5, 6, 6, 7, 7, 3],\n",
      "       [1, 0, 2, 1, 3, 2, 4, 3, 5, 4, 6, 5, 7, 6, 3, 7]], dtype=uint8), 'edge_attr': array([2, 2, 0, 0, 0, 0, 3, 3, 3, 3, 3, 3, 3, 3, 3, 3], dtype=uint8)}\n",
      "[ 5.72733000e+00  1.29969000e+00  1.25123000e+00  5.71890000e+00\n",
      "  6.36700000e+01 -2.52900000e-01  3.80000000e-03  2.56800000e-01\n",
      "  9.55709400e+02  9.62430000e-02 -3.57611583e+02 -3.57604529e+02\n",
      " -3.57603585e+02 -3.57644633e+02  2.48770000e+01 -1.33331544e+03\n",
      " -1.34044331e+03 -1.34755487e+03 -1.24668594e+03]\n"
     ]
    }
   ],
   "source": [
    "graph, target = dataset[1]\n",
    "\n",
    "print(graph)\n",
    "print(target)"
   ]
  },
  {
   "cell_type": "code",
   "execution_count": null,
   "metadata": {},
   "outputs": [],
   "source": []
  }
 ],
 "metadata": {
  "kernelspec": {
   "display_name": "base",
   "language": "python",
   "name": "python3"
  },
  "language_info": {
   "codemirror_mode": {
    "name": "ipython",
    "version": 3
   },
   "file_extension": ".py",
   "mimetype": "text/x-python",
   "name": "python",
   "nbconvert_exporter": "python",
   "pygments_lexer": "ipython3",
   "version": "3.12.7"
  }
 },
 "nbformat": 4,
 "nbformat_minor": 2
}
