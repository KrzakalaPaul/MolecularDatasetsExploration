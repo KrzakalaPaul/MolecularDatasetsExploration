{
 "cells": [
  {
   "cell_type": "code",
   "execution_count": 1,
   "metadata": {},
   "outputs": [],
   "source": [
    "from data.utils.lmdb_utils import LMDBDataset\n",
    "\n",
    "dataset = LMDBDataset('data/graphs/HIV.lmdb')"
   ]
  },
  {
   "cell_type": "code",
   "execution_count": 7,
   "metadata": {},
   "outputs": [],
   "source": [
    "all_atomic_nums = []\n",
    "n = 20000\n",
    "for i in range(20000):\n",
    "    graph, target = dataset[i]\n",
    "    all_atomic_nums.extend(graph['atom_atomic_nums'].tolist())"
   ]
  },
  {
   "cell_type": "code",
   "execution_count": 12,
   "metadata": {},
   "outputs": [
    {
     "name": "stdout",
     "output_type": "stream",
     "text": [
      "53\n",
      "0 7\n",
      "2 5\n",
      "4 54\n",
      "5 368438\n",
      "6 49195\n",
      "7 70326\n",
      "8 3181\n",
      "10 213\n",
      "11 2\n",
      "12 2\n",
      "13 213\n",
      "14 1029\n",
      "15 9080\n",
      "16 4968\n",
      "18 22\n",
      "19 2\n",
      "21 1\n",
      "23 6\n",
      "24 16\n",
      "25 39\n",
      "26 50\n",
      "27 36\n",
      "28 57\n",
      "29 18\n",
      "30 2\n",
      "31 15\n",
      "32 19\n",
      "33 78\n",
      "34 926\n",
      "39 3\n",
      "41 10\n",
      "43 7\n",
      "44 12\n",
      "45 28\n",
      "46 3\n",
      "49 80\n",
      "50 4\n",
      "51 3\n",
      "52 274\n",
      "54 1\n",
      "63 1\n",
      "64 1\n",
      "73 3\n",
      "74 4\n",
      "76 11\n",
      "77 27\n",
      "78 4\n",
      "79 11\n",
      "80 3\n",
      "81 6\n",
      "82 5\n",
      "88 1\n",
      "91 2\n"
     ]
    }
   ],
   "source": [
    "unique = set(all_atomic_nums)\n",
    "print(len(unique))\n",
    "for u in unique:\n",
    "    print(u, all_atomic_nums.count(u))"
   ]
  },
  {
   "cell_type": "code",
   "execution_count": null,
   "metadata": {},
   "outputs": [],
   "source": []
  }
 ],
 "metadata": {
  "kernelspec": {
   "display_name": "base",
   "language": "python",
   "name": "python3"
  },
  "language_info": {
   "codemirror_mode": {
    "name": "ipython",
    "version": 3
   },
   "file_extension": ".py",
   "mimetype": "text/x-python",
   "name": "python",
   "nbconvert_exporter": "python",
   "pygments_lexer": "ipython3",
   "version": "3.12.7"
  }
 },
 "nbformat": 4,
 "nbformat_minor": 2
}
