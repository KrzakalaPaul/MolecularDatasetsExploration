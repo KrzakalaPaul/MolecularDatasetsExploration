{
 "cells": [
  {
   "cell_type": "code",
   "execution_count": 1,
   "metadata": {},
   "outputs": [],
   "source": [
    "valid_atomic_nums = list(range(1, 119)) + ['ukn']\n",
    "valid_bond_types = ['SINGLE', 'DOUBLE', 'TRIPLE', 'AROMATIC', 'ukn']\n",
    "\n",
    "valid_features_dic = {'atomomic_nums': valid_atomic_nums, 'bond_types': valid_bond_types}\n",
    "\n",
    "def safe_index(l, e):\n",
    "    \"\"\"\n",
    "    Return index of element e in list l. If e is not present, return the last index\n",
    "    \"\"\"\n",
    "    try:\n",
    "        return l.index(e)\n",
    "    except:\n",
    "        return len(l) - 1"
   ]
  },
  {
   "cell_type": "code",
   "execution_count": 6,
   "metadata": {},
   "outputs": [],
   "source": [
    "from rdkit import Chem\n",
    "import numpy as np\n",
    "\n",
    "def smiles2graph(smiles):\n",
    "\n",
    "    mol = Chem.MolFromSmiles(smiles)\n",
    "\n",
    "    if mol is None:\n",
    "        return None\n",
    "\n",
    "    atom_atomic_nums = []\n",
    "    for atom in mol.GetAtoms():\n",
    "        atom_atomic_nums.append(safe_index(valid_features_dic['atomomic_nums'], atom.GetAtomicNum()))\n",
    "    atom_atomic_nums = np.array(atom_atomic_nums, dtype=np.int64)\n",
    "\n",
    "    if len(mol.GetBonds()) > 0:  # mol has bonds\n",
    "        edges_list = []\n",
    "        edge_features_list = []\n",
    "        for bond in mol.GetBonds():\n",
    "            i = bond.GetBeginAtomIdx()\n",
    "            j = bond.GetEndAtomIdx()\n",
    "\n",
    "            edge_feature = str(bond.GetBondType())\n",
    "            edge_feature = safe_index(valid_features_dic['bond_types'], edge_feature)\n",
    "\n",
    "            # add edges in both directions\n",
    "            edges_list.append((i, j))\n",
    "            edge_features_list.append(edge_feature)\n",
    "            edges_list.append((j, i))\n",
    "            edge_features_list.append(edge_feature)\n",
    "\n",
    "        # data.edge_index: Graph connectivity in COO format with shape [2, num_edges]\n",
    "        edge_index = np.array(edges_list, dtype=np.int64).T\n",
    "\n",
    "        # data.edge_attr: Edge feature matrix with shape [num_edges, num_edge_features]\n",
    "        edge_attr = np.array(edge_features_list, dtype=np.int64)\n",
    "\n",
    "    else:  # mol has no bonds\n",
    "        edge_index = np.empty((2, 0), dtype=np.int64)\n",
    "        edge_attr = np.empty((0, 1), dtype=np.int64)\n",
    "\n",
    "    return atom_atomic_nums, edge_index, edge_attr"
   ]
  },
  {
   "cell_type": "code",
   "execution_count": 8,
   "metadata": {},
   "outputs": [
    {
     "name": "stderr",
     "output_type": "stream",
     "text": [
      "[14:06:15] Explicit valence for atom # 3 Al, 6, is greater than permitted\n",
      "[14:06:16] Explicit valence for atom # 5 B, 5, is greater than permitted\n"
     ]
    },
    {
     "name": "stdout",
     "output_type": "stream",
     "text": [
      "O=C1O[Al]23(OC1=O)(OC(=O)C(=O)O2)OC(=O)C(=O)O3\n",
      "Cc1ccc([B-2]2(c3ccc(C)cc3)=NCCO2)cc1\n"
     ]
    },
    {
     "name": "stderr",
     "output_type": "stream",
     "text": [
      "[14:06:19] Explicit valence for atom # 16 Al, 9, is greater than permitted\n"
     ]
    },
    {
     "name": "stdout",
     "output_type": "stream",
     "text": [
      "Oc1ccc(C2Oc3cc(O)cc4c3C(=[O+][AlH3-3]35([O+]=C6c7c(cc(O)cc7[OH+]3)OC(c3ccc(O)cc3O)C6O)([O+]=C3c6c(cc(O)cc6[OH+]5)OC(c5ccc(O)cc5O)C3O)[OH+]4)C2O)c(O)c1\n"
     ]
    },
    {
     "name": "stderr",
     "output_type": "stream",
     "text": [
      "[14:06:20] Explicit valence for atom # 4 Al, 9, is greater than permitted\n"
     ]
    },
    {
     "name": "stdout",
     "output_type": "stream",
     "text": [
      "CC1=C2[OH+][AlH3-3]34([O+]=C2C=CN1C)([O+]=C1C=CN(C)C(C)=C1[OH+]3)[O+]=C1C=CN(C)C(C)=C1[OH+]4\n"
     ]
    },
    {
     "name": "stderr",
     "output_type": "stream",
     "text": [
      "[14:06:24] Explicit valence for atom # 12 Al, 7, is greater than permitted\n",
      "[14:06:24] Explicit valence for atom # 13 Al, 7, is greater than permitted\n"
     ]
    },
    {
     "name": "stdout",
     "output_type": "stream",
     "text": [
      "CC(c1cccs1)=[N+]1[N-]C(N)=[S+][AlH3-]12[OH+]B(c1ccccc1)[OH+]2\n",
      "CC(c1ccccn1)=[N+]1[N-]C(N)=[S+][AlH3-]12[OH+]B(c1ccccc1)[OH+]2\n"
     ]
    },
    {
     "name": "stderr",
     "output_type": "stream",
     "text": [
      "[14:06:25] WARNING: not removing hydrogen atom without neighbors\n",
      "[14:06:25] WARNING: not removing hydrogen atom without neighbors\n",
      "[14:06:25] Explicit valence for atom # 6 Ge, 5, is greater than permitted\n"
     ]
    },
    {
     "name": "stdout",
     "output_type": "stream",
     "text": [
      "[Na+].c1ccc([SH+][GeH2+]2[SH+]c3ccccc3[SH+]2)c([SH+][GeH2+]2[SH+]c3ccccc3[SH+]2)c1\n"
     ]
    }
   ],
   "source": [
    "import pandas as pd \n",
    "\n",
    "smiles_list = pd.read_csv('data/HIV.csv')['smiles'].values\n",
    "smiles_list = smiles_list\n",
    "\n",
    "for smiles in smiles_list:\n",
    "    graph = smiles2graph(smiles)\n",
    "    if graph is None:\n",
    "        print(smiles)\n",
    "    "
   ]
  },
  {
   "cell_type": "code",
   "execution_count": null,
   "metadata": {},
   "outputs": [],
   "source": []
  },
  {
   "cell_type": "code",
   "execution_count": null,
   "metadata": {},
   "outputs": [
    {
     "name": "stderr",
     "output_type": "stream",
     "text": [
      "0it [00:00, ?it/s]"
     ]
    }
   ],
   "source": [
    "import os\n",
    "import lmdb\n",
    "from tqdm import tqdm\n",
    "from multiprocessing import Pool\n",
    "\n",
    "def write_lmdb(smiles_list, outpath='lmdb_file', nthreads=8):\n",
    "    os.makedirs(outpath, exist_ok=True)\n",
    "    output_name = os.path.join(outpath,'.lmdb')\n",
    "    try:\n",
    "        os.remove(output_name)\n",
    "    except:\n",
    "        pass\n",
    "    env_new = lmdb.open(\n",
    "        output_name,\n",
    "        subdir=False,\n",
    "        readonly=False,\n",
    "        lock=False,\n",
    "        readahead=False,\n",
    "        meminit=False,\n",
    "        max_readers=1,\n",
    "        map_size=int(100e9),\n",
    "    )\n",
    "    txn_write = env_new.begin(write=True)\n",
    "    with Pool(nthreads) as pool:\n",
    "        i = 0\n",
    "        for inner_output in tqdm(pool.imap(smiles2graph, smiles_list)):\n",
    "            if inner_output is not None:\n",
    "                txn_write.put(f'{i}'.encode(\"ascii\"), inner_output)\n",
    "                i += 1\n",
    "        print('{} lines'.format(i))\n",
    "        txn_write.commit()\n",
    "        env_new.close()\n",
    "\n",
    "write_lmdb(['CCO', 'CCN', 'CCF', 'CCCl'], outpath='lmdb_file', nthreads=8)"
   ]
  },
  {
   "cell_type": "code",
   "execution_count": null,
   "metadata": {},
   "outputs": [],
   "source": [
    "import deepchem as dc\n",
    "\n",
    "# creation of demo data set with some smiles strings\n",
    "\n",
    "def splitter(smiles):\n",
    "    return smiles.split()\n",
    "\n",
    "\n",
    "\n",
    "\n",
    "Xs = np.zeros(len(data_test))\n",
    "\n",
    "Ys = np.ones(len(data_test))\n",
    "\n",
    "# creation of a deepchem dataset with the smile codes in the ids field\n",
    "\n",
    "dataset = dc.data.DiskDataset.from_numpy(X=Xs,y=Ys,w=np.zeros(len(data_test)),ids=data_test)\n",
    "\n",
    "scaffoldsplitter = dc.splits.ScaffoldSplitter()\n",
    "\n",
    "train,test = scaffoldsplitter.train_test_split(dataset)"
   ]
  },
  {
   "cell_type": "code",
   "execution_count": null,
   "metadata": {},
   "outputs": [],
   "source": [
    "smiles = [\"CC(C)Cl\" , \"CCC(C)CO\" ,  \"CCCCCCCO\" , \"CCCCCCCC(=O)OC\" , \"c3ccc2nc1ccccc1cc2c3\" , \"Nc2cccc3nc1ccccc1cc23\" , \"C1CCCCCC1\" ]\n",
    "\n",
    "\n"
   ]
  }
 ],
 "metadata": {
  "kernelspec": {
   "display_name": "base",
   "language": "python",
   "name": "python3"
  },
  "language_info": {
   "codemirror_mode": {
    "name": "ipython",
    "version": 3
   },
   "file_extension": ".py",
   "mimetype": "text/x-python",
   "name": "python",
   "nbconvert_exporter": "python",
   "pygments_lexer": "ipython3",
   "version": "3.12.7"
  }
 },
 "nbformat": 4,
 "nbformat_minor": 2
}
