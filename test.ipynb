{
 "cells": [
  {
   "cell_type": "code",
   "execution_count": 35,
   "metadata": {},
   "outputs": [],
   "source": [
    "\n",
    "import numpy as np\n",
    "from rdkit.Chem import MolFromSmiles\n",
    "from rdkit import RDLogger\n",
    "from scipy.sparse import csgraph, csr_matrix\n",
    "\n",
    "valid_atomic_nums = [6, 8, 7, 17, 16, 9, 35, 15, 53, 14, 11, 33, 80, 50, 5, 20, 19, 30, 26, 34, 13, 29, 12, 82, 24, 27, 1, 28, 56, 78, 25, 51, \"ukn\"]\n",
    "valid_bond_types = [\"SINGLE\", \"DOUBLE\", \"TRIPLE\", \"AROMATIC\", \"ukn\"]\n",
    "\n",
    "def safe_index(l, e):\n",
    "    \"\"\"\n",
    "    Return index of element e in list l. If e is not present, return the last index\n",
    "    \"\"\"\n",
    "    try:\n",
    "        return l.index(e)\n",
    "    except:\n",
    "        return len(l) - 1\n",
    "\n",
    "\n",
    "def smiles2graph(smiles, max_size=32):\n",
    "    RDLogger.DisableLog('rdApp.*')\n",
    "    mol = MolFromSmiles(smiles)\n",
    "    if mol is None:\n",
    "        return None\n",
    "    node_labels = []\n",
    "    for atom in mol.GetAtoms():\n",
    "        node_labels.append(safe_index(valid_atomic_nums, atom.GetAtomicNum()))\n",
    "    node_labels = np.array(node_labels, dtype=np.uint8)\n",
    "    size = len(node_labels)\n",
    "    \n",
    "    if size > max_size:\n",
    "        return None\n",
    "    \n",
    "    edges_i = []\n",
    "    edges_j = []\n",
    "    edges_labels = []\n",
    "\n",
    "    for bond in mol.GetBonds():\n",
    "        i = bond.GetBeginAtomIdx()\n",
    "        j = bond.GetEndAtomIdx()\n",
    "        bondtype = str(bond.GetBondType())\n",
    "        \n",
    "        edges_i.append(i)\n",
    "        edges_j.append(j)\n",
    "        edges_i.append(j)\n",
    "        edges_j.append(i)\n",
    "\n",
    "        edges_labels.append(safe_index(valid_bond_types, bondtype)+1)\n",
    "        edges_labels.append(safe_index(valid_bond_types, bondtype)+1)\n",
    "\n",
    "    adjacency_matrix = csr_matrix((np.ones(len(edges_i)), (edges_i, edges_j)), shape=(size,size))\n",
    "    edges_labels = csr_matrix((np.array(edges_labels, dtype=np.uint), (edges_i, edges_j)), shape=(size,size))\n",
    "    SP_matrix = csgraph.shortest_path(adjacency_matrix, directed=False, unweighted=True)\n",
    "    SP_matrix = SP_matrix.astype(np.uint8)\n",
    "\n",
    "    graph = {\n",
    "        \"node_labels\": node_labels,\n",
    "        \"adjacency_matrix\": adjacency_matrix,\n",
    "        \"edges_labels\": edges_labels,\n",
    "        \"SP_matrix\": SP_matrix\n",
    "    }\n",
    "\n",
    "    return graph"
   ]
  },
  {
   "cell_type": "code",
   "execution_count": 33,
   "metadata": {},
   "outputs": [],
   "source": [
    "import matplotlib.pyplot as plt\n",
    "from rdkit.Chem import Draw\n",
    "\n",
    "def plot_smile(smiles):\n",
    "    mol = MolFromSmiles(smiles)\n",
    "    img = Draw.MolToImage(mol)\n",
    "    plt.imshow(img)\n",
    "    plt.show()"
   ]
  },
  {
   "cell_type": "code",
   "execution_count": 34,
   "metadata": {},
   "outputs": [
    {
     "data": {
      "image/png": "[encoded data removed]",
      "text/plain": [
       "<Figure size 640x480 with 1 Axes>"
      ]
     },
     "metadata": {},
     "output_type": "display_data"
    },
    {
     "name": "stdout",
     "output_type": "stream",
     "text": [
      "Node Labels: [0 0 1]\n",
      "Adjacency Matrix:\n",
      " [[0. 1. 0.]\n",
      " [1. 0. 1.]\n",
      " [0. 1. 0.]]\n",
      "Edges Labels:\n",
      " [[0 2 0]\n",
      " [2 0 1]\n",
      " [0 1 0]]\n",
      "Shortest Path Matrix:\n",
      " [[0 1 2]\n",
      " [1 0 1]\n",
      " [2 1 0]]\n"
     ]
    }
   ],
   "source": [
    "smiles = 'C=CO'\n",
    "\n",
    "plot_smile(smiles)\n",
    "\n",
    "graph = smiles2graph(smiles)\n",
    "\n",
    "node_labels = graph[\"node_labels\"]\n",
    "adjacency_matrix = graph[\"adjacency_matrix\"]\n",
    "edges_labels = graph[\"edges_labels\"]\n",
    "SP_matrix = graph[\"SP_matrix\"]\n",
    "\n",
    "print(\"Node Labels:\", node_labels)\n",
    "print(\"Adjacency Matrix:\\n\", adjacency_matrix.toarray())\n",
    "print(\"Edges Labels:\\n\", edges_labels.toarray())\n",
    "print(\"Shortest Path Matrix:\\n\", SP_matrix)\n"
   ]
  },
  {
   "cell_type": "code",
   "execution_count": 40,
   "metadata": {},
   "outputs": [
    {
     "data": {
      "text/plain": [
       "7"
      ]
     },
     "execution_count": 40,
     "metadata": {},
     "output_type": "execute_result"
    }
   ],
   "source": [
    "list = [6, 8, 7, 17, 16, 9, 35, 15, 53, 14, 11, 33, 80, 50, 5, 20, 19, 30, 26, 34, 13, 29, 12, 82, 24, 27, 1, 28, 56, 78, 25, 51, \"ukn\"]\n",
    "string = str(list)\n",
    "list2 = eval(string)\n",
    "list2[0] + 1"
   ]
  },
  {
   "cell_type": "code",
   "execution_count": null,
   "metadata": {},
   "outputs": [],
   "source": []
  }
 ],
 "metadata": {
  "kernelspec": {
   "display_name": "base",
   "language": "python",
   "name": "python3"
  },
  "language_info": {
   "codemirror_mode": {
    "name": "ipython",
    "version": 3
   },
   "file_extension": ".py",
   "mimetype": "text/x-python",
   "name": "python",
   "nbconvert_exporter": "python",
   "pygments_lexer": "ipython3",
   "version": "3.11.5"
  }
 },
 "nbformat": 4,
 "nbformat_minor": 2
}
