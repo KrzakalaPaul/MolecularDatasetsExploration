{
 "cells": [
  {
   "cell_type": "code",
   "execution_count": 1,
   "metadata": {},
   "outputs": [],
   "source": [
    "from data.utils.smiles_to_graphs import smiles2graph\n",
    "import pickle\n",
    "from numpy import random\n",
    "\n",
    "def add_smiles_list(env,smiles_list,train_percentage,test_percentage):\n",
    "    \n",
    "    with env.begin(write=True) as txn:\n",
    "        \n",
    "        n_invalid = 0\n",
    "        for i, smiles in enumerate(smiles_list):\n",
    "\n",
    "            # Convert SMILES to graph\n",
    "            graph = smiles2graph(smiles)\n",
    "\n",
    "            # If SMILES gives valid molecule save it, otherwise skip\n",
    "            if graph is None:\n",
    "                n_invalid += 1\n",
    "                continue\n",
    "            else:\n",
    "                data = pickle.dumps(graph)\n",
    "                split = random.choice([\"train\", \"valid\"], p=[train_percentage, test_percentage])\n",
    "                key = split+f\"_{i}\"\n",
    "                txn.put(key.encode(\"ascii\"), data)\n",
    "    \n",
    "    return n_invalid"
   ]
  },
  {
   "cell_type": "code",
   "execution_count": 2,
   "metadata": {},
   "outputs": [],
   "source": [
    "import lmdb\n",
    "import os \n",
    "import pandas as pd\n",
    "\n",
    "file = f\"data/graphs/pubchem.lmdb\"\n",
    "\n",
    "if os.path.exists(file):\n",
    "    os.remove(file)\n",
    "\n",
    "env = lmdb.open(\n",
    "    file,\n",
    "    subdir=False,\n",
    "    readonly=False,\n",
    "    lock=False,\n",
    "    readahead=False,\n",
    "    meminit=False,\n",
    "    max_readers=1,\n",
    "    map_size=1099511627776\n",
    ")\n",
    "    \n",
    "dir = 'data/smiles/pubchem'\n",
    "files = os.listdir(dir)\n",
    "\n",
    "train_percentage = 0.95\n",
    "test_percentage = 0.05  "
   ]
  },
  {
   "cell_type": "code",
   "execution_count": 3,
   "metadata": {},
   "outputs": [
    {
     "name": "stderr",
     "output_type": "stream",
     "text": [
      "100%|██████████| 8/8 [00:51<00:00,  6.47s/it]\n"
     ]
    }
   ],
   "source": [
    "from tqdm import tqdm\n",
    "from multiprocessing import Pool\n",
    "\n",
    "n_threads = 8\n",
    "\n",
    "if n_threads == 1:\n",
    "\n",
    "    n_invalid = 0\n",
    "    n_total = 0\n",
    "    for file in tqdm(files):\n",
    "        smiles_list = pd.read_csv(os.path.join(dir, file)).values[:, 0]\n",
    "        n_invalid += add_smiles_list(env, smiles_list, train_percentage=train_percentage, test_percentage=test_percentage)\n",
    "        n_total += len(smiles_list)\n",
    "        \n",
    "else:\n",
    "    \n",
    "    def process_file(file):\n",
    "        smiles_list = pd.read_csv(os.path.join(dir, file)).values[:, 0]\n",
    "        n_invalid = add_smiles_list(env, smiles_list, train_percentage=train_percentage, test_percentage=test_percentage)\n",
    "        return len(smiles_list), n_invalid\n",
    "    \n",
    "    with Pool(n_threads) as p:\n",
    "        results = list(tqdm(p.imap(process_file, files), total=len(files)))\n",
    "        "
   ]
  },
  {
   "cell_type": "code",
   "execution_count": 2,
   "metadata": {},
   "outputs": [
    {
     "ename": "",
     "evalue": "",
     "output_type": "error",
     "traceback": [
      "\u001b[1;31mThe Kernel crashed while executing code in the current cell or a previous cell. \n",
      "\u001b[1;31mPlease review the code in the cell(s) to identify a possible cause of the failure. \n",
      "\u001b[1;31mClick <a href='https://aka.ms/vscodeJupyterKernelCrash'>here</a> for more info. \n",
      "\u001b[1;31mView Jupyter <a href='command:jupyter.viewOutput'>log</a> for further details."
     ]
    }
   ],
   "source": [
    "list = [i for i in range(10**9)]"
   ]
  },
  {
   "cell_type": "code",
   "execution_count": 7,
   "metadata": {},
   "outputs": [],
   "source": [
    "import lmdb\n",
    "import pickle\n",
    "\n",
    "file1 = \"database1.lmdb\"\n",
    "file2 = \"database2.lmdb\"\n",
    "\n",
    "env1 = lmdb.open(\n",
    "        file1,\n",
    "        subdir=False,\n",
    "        readonly=False,\n",
    "        lock=False,\n",
    "        readahead=False,\n",
    "        meminit=False,\n",
    "        max_readers=1,\n",
    "        map_size=1099511627776\n",
    "    )\n",
    "\n",
    "env2 = lmdb.open(\n",
    "        file2,\n",
    "        subdir=False,\n",
    "        readonly=False,\n",
    "        lock=False,\n",
    "        readahead=False,\n",
    "        meminit=False,\n",
    "        max_readers=1,\n",
    "        map_size=1099511627776\n",
    "    )\n",
    "\n",
    "\n",
    "with env1.begin(write=True) as txn1, env2.begin(write=True) as txn2:\n",
    "    txn1.put(\"global\".encode(\"ascii\"), pickle.dumps(\"some info about the database 1\"))\n",
    "    txn2.put(\"global\".encode(\"ascii\"), pickle.dumps(\"some info about the database 2\")) \n"
   ]
  },
  {
   "cell_type": "code",
   "execution_count": null,
   "metadata": {},
   "outputs": [],
   "source": []
  }
 ],
 "metadata": {
  "kernelspec": {
   "display_name": "base",
   "language": "python",
   "name": "python3"
  },
  "language_info": {
   "codemirror_mode": {
    "name": "ipython",
    "version": 3
   },
   "file_extension": ".py",
   "mimetype": "text/x-python",
   "name": "python",
   "nbconvert_exporter": "python",
   "pygments_lexer": "ipython3",
   "version": "3.11.5"
  }
 },
 "nbformat": 4,
 "nbformat_minor": 2
}
